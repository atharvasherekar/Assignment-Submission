{
 "cells": [
  {
   "cell_type": "markdown",
   "id": "f13bc6fb",
   "metadata": {},
   "source": [
    "1. Find the data type of a if a=9\n"
   ]
  },
  {
   "cell_type": "code",
   "execution_count": 1,
   "id": "4e8b86cb",
   "metadata": {},
   "outputs": [
    {
     "data": {
      "text/plain": [
       "int"
      ]
     },
     "execution_count": 1,
     "metadata": {},
     "output_type": "execute_result"
    }
   ],
   "source": [
    "a = 9\n",
    "type(a)"
   ]
  },
  {
   "cell_type": "markdown",
   "id": "58c3924c",
   "metadata": {},
   "source": [
    "3. Find the data type of a if a='9.'\n",
    "\n"
   ]
  },
  {
   "cell_type": "code",
   "execution_count": 2,
   "id": "89ad267c",
   "metadata": {},
   "outputs": [
    {
     "data": {
      "text/plain": [
       "str"
      ]
     },
     "execution_count": 2,
     "metadata": {},
     "output_type": "execute_result"
    }
   ],
   "source": [
    "a = '9'\n",
    "type(a)"
   ]
  },
  {
   "cell_type": "markdown",
   "id": "fa464d39",
   "metadata": {},
   "source": [
    "4. Find the data type of a if a=(9)\n"
   ]
  },
  {
   "cell_type": "code",
   "execution_count": 3,
   "id": "6eefe0a1",
   "metadata": {},
   "outputs": [
    {
     "data": {
      "text/plain": [
       "int"
      ]
     },
     "execution_count": 3,
     "metadata": {},
     "output_type": "execute_result"
    }
   ],
   "source": [
    "a = (9)\n",
    "type(a)"
   ]
  },
  {
   "cell_type": "markdown",
   "id": "a0847ec5",
   "metadata": {},
   "source": [
    "5. Find the data type of a if a=False\n"
   ]
  },
  {
   "cell_type": "code",
   "execution_count": 4,
   "id": "e708040e",
   "metadata": {},
   "outputs": [
    {
     "data": {
      "text/plain": [
       "bool"
      ]
     },
     "execution_count": 4,
     "metadata": {},
     "output_type": "execute_result"
    }
   ],
   "source": [
    "a = False\n",
    "type(a)"
   ]
  },
  {
   "cell_type": "markdown",
   "id": "63aa0c6e",
   "metadata": {},
   "source": [
    "6. Find the data type of a if a=[1,2,3]\n"
   ]
  },
  {
   "cell_type": "code",
   "execution_count": 5,
   "id": "6a829b10",
   "metadata": {},
   "outputs": [
    {
     "data": {
      "text/plain": [
       "list"
      ]
     },
     "execution_count": 5,
     "metadata": {},
     "output_type": "execute_result"
    }
   ],
   "source": [
    "a = [1,2,3]\n",
    "type(a)"
   ]
  },
  {
   "cell_type": "markdown",
   "id": "7d94a8cc",
   "metadata": {},
   "source": [
    "\n",
    "7. Find the data type of a if a=(1,2,3)\n"
   ]
  },
  {
   "cell_type": "code",
   "execution_count": 6,
   "id": "2764c990",
   "metadata": {},
   "outputs": [
    {
     "data": {
      "text/plain": [
       "tuple"
      ]
     },
     "execution_count": 6,
     "metadata": {},
     "output_type": "execute_result"
    }
   ],
   "source": [
    "a = (1,2,3)\n",
    "type(a)"
   ]
  },
  {
   "cell_type": "markdown",
   "id": "d33483ec",
   "metadata": {},
   "source": [
    "8. Find the data type of a if a={'key': 9}"
   ]
  },
  {
   "cell_type": "code",
   "execution_count": 7,
   "id": "4927a67b",
   "metadata": {},
   "outputs": [
    {
     "data": {
      "text/plain": [
       "dict"
      ]
     },
     "execution_count": 7,
     "metadata": {},
     "output_type": "execute_result"
    }
   ],
   "source": [
    "a = {'key':9}\n",
    "type(a)"
   ]
  },
  {
   "cell_type": "markdown",
   "id": "d10d7a09",
   "metadata": {},
   "source": [
    "9. Find the data type of a if a=1 + 9j"
   ]
  },
  {
   "cell_type": "code",
   "execution_count": 8,
   "id": "1e17ef4f",
   "metadata": {},
   "outputs": [
    {
     "data": {
      "text/plain": [
       "complex"
      ]
     },
     "execution_count": 8,
     "metadata": {},
     "output_type": "execute_result"
    }
   ],
   "source": [
    "a = 1+9j\n",
    "type(a)"
   ]
  },
  {
   "cell_type": "markdown",
   "id": "8aeaa0f5",
   "metadata": {},
   "source": [
    "10. Set a=1 and b=2. What data type is a/b?\n"
   ]
  },
  {
   "cell_type": "code",
   "execution_count": 9,
   "id": "59d70e42",
   "metadata": {},
   "outputs": [
    {
     "name": "stdout",
     "output_type": "stream",
     "text": [
      "0.5\n",
      "<class 'float'>\n"
     ]
    }
   ],
   "source": [
    "a = 1\n",
    "b = 2\n",
    "print(a/b)\n",
    "print(type(a/b))"
   ]
  },
  {
   "cell_type": "markdown",
   "id": "df974d1b",
   "metadata": {},
   "source": [
    "11. Create a dictionary numbers = {'one':1, 'two':2, 'three':3}. Pull out the number '2' by calling the key 'two'\n"
   ]
  },
  {
   "cell_type": "code",
   "execution_count": 10,
   "id": "e77a35a9",
   "metadata": {},
   "outputs": [
    {
     "data": {
      "text/plain": [
       "2"
      ]
     },
     "execution_count": 10,
     "metadata": {},
     "output_type": "execute_result"
    }
   ],
   "source": [
    "numbers = {'one':1,'two':2,'three':3}\n",
    "numbers['two']"
   ]
  },
  {
   "cell_type": "markdown",
   "id": "77e70002",
   "metadata": {},
   "source": [
    "12. Create a tuple with the numbers 8, 9, and 10?"
   ]
  },
  {
   "cell_type": "code",
   "execution_count": 11,
   "id": "f7f4f197",
   "metadata": {},
   "outputs": [
    {
     "name": "stdout",
     "output_type": "stream",
     "text": [
      "(8, 9, 10)\n"
     ]
    }
   ],
   "source": [
    "tup = (8,9,10)\n",
    "print(tup)"
   ]
  },
  {
   "cell_type": "markdown",
   "id": "14b12d99",
   "metadata": {},
   "source": [
    "13. Run the following lines of code and explain the error in your own words. Then rewrite the lines of code to run error free:\n",
    "d = {one:1, two:2, three:3} d[one]"
   ]
  },
  {
   "cell_type": "markdown",
   "id": "503162d7",
   "metadata": {},
   "source": [
    "The error is there are no single quotations for all the keys in the dictionary and also at the point of calling the key there should be single quotes i.e. d['one']"
   ]
  },
  {
   "cell_type": "code",
   "execution_count": 13,
   "id": "1e6db4ec",
   "metadata": {},
   "outputs": [
    {
     "data": {
      "text/plain": [
       "1"
      ]
     },
     "execution_count": 13,
     "metadata": {},
     "output_type": "execute_result"
    }
   ],
   "source": [
    "d = {'one':1,'two':2,'three':3}\n",
    "d['one']"
   ]
  },
  {
   "cell_type": "markdown",
   "id": "8f628d44",
   "metadata": {},
   "source": [
    "14. Run the following lines of code and explain the error in your own words. Then rewrite the lines of code to run error free:\n",
    "f = false not f"
   ]
  },
  {
   "cell_type": "markdown",
   "id": "b026cc5e",
   "metadata": {},
   "source": [
    "The error in this line of code is, in the keyword false,f should be capital.And second error is not False is True but not f is invalid syntax"
   ]
  },
  {
   "cell_type": "code",
   "execution_count": 16,
   "id": "59490a65",
   "metadata": {},
   "outputs": [
    {
     "name": "stdout",
     "output_type": "stream",
     "text": [
      "True\n"
     ]
    }
   ],
   "source": [
    "f = not False\n",
    "print(f)"
   ]
  },
  {
   "cell_type": "markdown",
   "id": "de5d3134",
   "metadata": {},
   "source": [
    "15. Run the following lines of code and explain the error in your own words. Then rewrite the lines of code to run error free:\n",
    "lst = [1,3,5] lst[3]"
   ]
  },
  {
   "cell_type": "markdown",
   "id": "7ca40289",
   "metadata": {},
   "source": [
    "The error in this line of code is at lst[3]. As we know indexing in lists starts from 0 by default. So in this case, the index no. for 1 is 0,for 3 it is 1, and for 5 it is 2.There is no existence of 3rd index number.If we want to access the third element in this particular list we shall use, lst[2]"
   ]
  },
  {
   "cell_type": "code",
   "execution_count": null,
   "id": "199c42aa",
   "metadata": {},
   "outputs": [],
   "source": [
    "lst = "
   ]
  }
 ],
 "metadata": {
  "kernelspec": {
   "display_name": "Python 3 (ipykernel)",
   "language": "python",
   "name": "python3"
  },
  "language_info": {
   "codemirror_mode": {
    "name": "ipython",
    "version": 3
   },
   "file_extension": ".py",
   "mimetype": "text/x-python",
   "name": "python",
   "nbconvert_exporter": "python",
   "pygments_lexer": "ipython3",
   "version": "3.9.7"
  }
 },
 "nbformat": 4,
 "nbformat_minor": 5
}
