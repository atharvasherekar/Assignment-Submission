{
 "cells": [
  {
   "cell_type": "markdown",
   "id": "a4537e81",
   "metadata": {},
   "source": [
    "Q1. Python program to print Highest Common Factor (HCF) of two numbers"
   ]
  },
  {
   "cell_type": "code",
   "execution_count": 2,
   "id": "041cbf60",
   "metadata": {},
   "outputs": [
    {
     "name": "stdout",
     "output_type": "stream",
     "text": [
      "The HCF is 100\n"
     ]
    }
   ],
   "source": [
    "def compute_hcf(x,y):\n",
    "    while(y):\n",
    "        x,y = y,x%y\n",
    "    return x\n",
    "\n",
    "hcf = compute_hcf(300,700)\n",
    "print(\"The HCF is\",hcf)\n"
   ]
  },
  {
   "cell_type": "code",
   "execution_count": null,
   "id": "ae86bc32",
   "metadata": {},
   "outputs": [],
   "source": [
    "Q2. What will be the output of the following Python code?\n",
    "\n",
    "i=0\n",
    "def change(i):\n",
    "i=i+1\n",
    "return i\n",
    "change(1)\n",
    "print(i)\n",
    "a) 1\n",
    "b) Nothing is displayed\n",
    "c) 0\n",
    "d) An exception is thrown"
   ]
  },
  {
   "cell_type": "markdown",
   "id": "6e4b222c",
   "metadata": {},
   "source": [
    "Output is 0"
   ]
  },
  {
   "cell_type": "code",
   "execution_count": null,
   "id": "9fd95d0b",
   "metadata": {},
   "outputs": [],
   "source": [
    "Q3. What will be the output of the following Python code?\n",
    "def a(b):\n",
    "b = b + [5]\n",
    "c = [1, 2, 3, 4]\n",
    "a(c)\n",
    "print(len(c))"
   ]
  },
  {
   "cell_type": "markdown",
   "id": "463bc56d",
   "metadata": {},
   "source": [
    "Output is 4"
   ]
  },
  {
   "cell_type": "code",
   "execution_count": null,
   "id": "32d4a317",
   "metadata": {},
   "outputs": [],
   "source": [
    "Q4. What will be the output of the following Python code?\n",
    "a=10\n",
    "b=20\n",
    "def change():\n",
    "global b\n",
    "a=45\n",
    "b=56\n",
    "change()\n",
    "print(a)\n",
    "print(b)\n",
    "a)\n",
    "10\n",
    "56\n",
    "b)\n",
    "45\n",
    "56\n",
    "c)\n",
    "10\n",
    "20\n",
    "d) Syntax Error"
   ]
  },
  {
   "cell_type": "markdown",
   "id": "460f0175",
   "metadata": {},
   "source": [
    "10\n",
    "56"
   ]
  },
  {
   "cell_type": "code",
   "execution_count": null,
   "id": "1e31106f",
   "metadata": {},
   "outputs": [],
   "source": []
  }
 ],
 "metadata": {
  "kernelspec": {
   "display_name": "Python 3 (ipykernel)",
   "language": "python",
   "name": "python3"
  },
  "language_info": {
   "codemirror_mode": {
    "name": "ipython",
    "version": 3
   },
   "file_extension": ".py",
   "mimetype": "text/x-python",
   "name": "python",
   "nbconvert_exporter": "python",
   "pygments_lexer": "ipython3",
   "version": "3.9.7"
  }
 },
 "nbformat": 4,
 "nbformat_minor": 5
}
