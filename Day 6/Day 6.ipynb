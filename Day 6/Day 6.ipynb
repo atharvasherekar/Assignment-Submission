{
 "cells": [
  {
   "cell_type": "code",
   "execution_count": 1,
   "id": "edf6698b",
   "metadata": {},
   "outputs": [],
   "source": [
    "from IPython.display import clear_output\n",
    "def display_board(board):\n",
    "    clear_output() \n",
    "    \n",
    "    print('   |   |')\n",
    "    print(' ' + board[7] + ' | ' + board[8] + ' | ' + board[9])\n",
    "    print('   |   |')\n",
    "    print('-----------')\n",
    "    print('   |   |')\n",
    "    print(' ' + board[4] + ' | ' + board[5] + ' | ' + board[6])\n",
    "    print('   |   |')\n",
    "    print('-----------')\n",
    "    print('   |   |')\n",
    "    print(' ' + board[1] + ' | ' + board[2] + ' | ' + board[3])\n",
    "    print('   |   |')"
   ]
  },
  {
   "cell_type": "code",
   "execution_count": 2,
   "id": "f29fd52b",
   "metadata": {},
   "outputs": [
    {
     "name": "stdout",
     "output_type": "stream",
     "text": [
      "   |   |\n",
      " X | 0 | X\n",
      "   |   |\n",
      "-----------\n",
      "   |   |\n",
      " 0 | X | 0\n",
      "   |   |\n",
      "-----------\n",
      "   |   |\n",
      " X | 0 | X\n",
      "   |   |\n"
     ]
    }
   ],
   "source": [
    "test_board = ['#','X','0','X','0', 'X', '0', 'X', '0','X']\n",
    "display_board(test_board)"
   ]
  },
  {
   "cell_type": "code",
   "execution_count": 3,
   "id": "0398e091",
   "metadata": {},
   "outputs": [],
   "source": [
    "def player_input():\n",
    "    marker = ''\n",
    "    \n",
    "    while not (marker == 'X' or marker == '0'):\n",
    "        marker = input('Player 1: Do you want to be X or O? ').upper()\n",
    "        \n",
    "        if marker == 'X':\n",
    "            return ('X', '0')\n",
    "        else:\n",
    "            return ('0', 'X')"
   ]
  },
  {
   "cell_type": "code",
   "execution_count": 4,
   "id": "8537308d",
   "metadata": {},
   "outputs": [
    {
     "name": "stdout",
     "output_type": "stream",
     "text": [
      "Player 1: Do you want to be X or O? X\n"
     ]
    },
    {
     "data": {
      "text/plain": [
       "('X', '0')"
      ]
     },
     "execution_count": 4,
     "metadata": {},
     "output_type": "execute_result"
    }
   ],
   "source": [
    "player_input()"
   ]
  },
  {
   "cell_type": "code",
   "execution_count": 5,
   "id": "24d05a70",
   "metadata": {},
   "outputs": [],
   "source": [
    "def place_marker(board, marker, position):\n",
    "    board[position] = marker"
   ]
  },
  {
   "cell_type": "code",
   "execution_count": 6,
   "id": "713e628e",
   "metadata": {},
   "outputs": [
    {
     "name": "stdout",
     "output_type": "stream",
     "text": [
      "   |   |\n",
      " X | $ | X\n",
      "   |   |\n",
      "-----------\n",
      "   |   |\n",
      " 0 | X | 0\n",
      "   |   |\n",
      "-----------\n",
      "   |   |\n",
      " X | 0 | X\n",
      "   |   |\n"
     ]
    }
   ],
   "source": [
    "place_marker(test_board, '$', 8)\n",
    "display_board(test_board)"
   ]
  },
  {
   "cell_type": "code",
   "execution_count": 8,
   "id": "1e3f0194",
   "metadata": {},
   "outputs": [],
   "source": [
    "def win_check(board, mark):\n",
    "    return ((board[7] == mark and board[8] == mark and board[9] == mark) or \n",
    "\n",
    "    (board[4] == mark and board[5] ==mark and board[6] == mark ) or\n",
    "    (board[1] == mark and board[2] == mark and board[3] == mark) or \n",
    "    (board[7] == mark and board[4] == mark and board[1] == mark) or \n",
    "    (board[8] == mark and board[5] == mark and board[2] == mark) or \n",
    "    (board[9] == mark and board[6] == mark and board[3] == mark) or \n",
    "    (board[7] == mark and board[5] == mark and board[3] == mark) or \n",
    "    (board[9] == mark and board[5] == mark and board[1] == mark)) "
   ]
  },
  {
   "cell_type": "code",
   "execution_count": 9,
   "id": "faaabd16",
   "metadata": {},
   "outputs": [
    {
     "data": {
      "text/plain": [
       "True"
      ]
     },
     "execution_count": 9,
     "metadata": {},
     "output_type": "execute_result"
    }
   ],
   "source": [
    "win_check(test_board, 'X')"
   ]
  },
  {
   "cell_type": "code",
   "execution_count": 10,
   "id": "87c2a748",
   "metadata": {},
   "outputs": [],
   "source": [
    "import random\n",
    "\n",
    "def choose_first():\n",
    "    if random.randint(0, 1) == 0:\n",
    "        return 'Player 2'\n",
    "    else:\n",
    "        return 'Player 1'"
   ]
  },
  {
   "cell_type": "code",
   "execution_count": 12,
   "id": "89b91b30",
   "metadata": {},
   "outputs": [],
   "source": [
    "def space_check(board, position):\n",
    "    return board[position] == ' '"
   ]
  },
  {
   "cell_type": "code",
   "execution_count": 15,
   "id": "1d52aacf",
   "metadata": {},
   "outputs": [],
   "source": [
    "def full_board_check(board):\n",
    "    for i in range(1,10):\n",
    "        if space_check(board, i):\n",
    "            return False\n",
    "        return True"
   ]
  },
  {
   "cell_type": "code",
   "execution_count": 18,
   "id": "0c177d77",
   "metadata": {},
   "outputs": [],
   "source": [
    "def player_choise(board):\n",
    "    position = 0\n",
    "    \n",
    "    while position not in [1,2,3,4,5,6,7,8,9] or not space_check(board, position):\n",
    "        position = int(input('Choose your next position : (1-9) '))\n",
    "\n",
    "    return position"
   ]
  },
  {
   "cell_type": "code",
   "execution_count": 19,
   "id": "e566b109",
   "metadata": {},
   "outputs": [],
   "source": [
    "def reply():\n",
    "    return input('Do you want to play again ? Enter Yes or No: ').lower().startswith('y')"
   ]
  },
  {
   "cell_type": "code",
   "execution_count": null,
   "id": "e6dcfc4f",
   "metadata": {},
   "outputs": [
    {
     "name": "stdout",
     "output_type": "stream",
     "text": [
      "Welcome to LetsUpgrade Tic Tac Toe Game\n",
      "Player 1: Do you want to be X or O? X\n",
      "Player 1 will go first\n",
      "Player 1: Do you want to be X or O? 0\n",
      "Player 1 will go first\n",
      "Player 1: Do you want to be X or O? X\n",
      "Player 1 will go first\n",
      "Player 1: Do you want to be X or O? X\n",
      "Player 2 will go first\n",
      "Player 1: Do you want to be X or O? x\n",
      "Player 2 will go first\n",
      "Player 1: Do you want to be X or O? 0\n",
      "Player 1 will go first\n",
      "Player 1: Do you want to be X or O? x\n",
      "Player 2 will go first\n",
      "Player 1: Do you want to be X or O? 0\n",
      "Player 2 will go first\n"
     ]
    }
   ],
   "source": [
    "print('Welcome to LetsUpgrade Tic Tac Toe Game')\n",
    "\n",
    "while True:\n",
    "    \n",
    "\n",
    "    theBoard = [' '] * 10\n",
    "    player1_marker, player2_marker = player_input()\n",
    "    turn = choose_first()\n",
    "    print(turn + ' will go first')\n",
    "    \n",
    "play_game = input('Are you ready to play ? Enter Yes or No.')\n",
    "\n",
    "if play_game.lower()[0] == 'y':\n",
    "    game_on = True\n",
    "else:\n",
    "    game_on = False\n",
    "\n",
    "while game_on:\n",
    "    if turn == 'Player 1':\n",
    "        display_board(theBoard)\n",
    "        position = player_choise(theBoard)\n",
    "        place_marker(theBoard, player1_marker, position)\n",
    "        \n",
    "        if win_check(theBoard, player1_marker):\n",
    "            display_board(theBoard)\n",
    "            print('Congratulation! You have won the game')\n",
    "            game_on = False\n",
    "            \n",
    "        else:\n",
    "            if full_board_check(theBoard):\n",
    "                display_board(theBoard)\n",
    "                print('The game is a draw')\n",
    "                break\n",
    "                \n",
    "            else:\n",
    "                turn = 'Player 2'\n",
    "\n",
    "    else:\n",
    "        display_board(theBoard)\n",
    "        position = player_choise(theBoard)\n",
    "        place_marker(theBoard, player2_marker, position)\n",
    "        \n",
    "        if win_check(theBoard, player2_marker):\n",
    "            display_board[theBoard]\n",
    "            print('Player 2 has won')\n",
    "            game_on = False\n",
    "        \n",
    "        else:\n",
    "            if full_board_check(theBoard):\n",
    "                display_board(theBoard)\n",
    "                print('The game is a draw')\n",
    "                break\n",
    "            else:\n",
    "                turn = 'Player 1'\n",
    "\n",
    "if not reply():\n",
    "    break"
   ]
  },
  {
   "cell_type": "code",
   "execution_count": null,
   "id": "71c97b8a",
   "metadata": {},
   "outputs": [],
   "source": []
  }
 ],
 "metadata": {
  "kernelspec": {
   "display_name": "Python 3 (ipykernel)",
   "language": "python",
   "name": "python3"
  },
  "language_info": {
   "codemirror_mode": {
    "name": "ipython",
    "version": 3
   },
   "file_extension": ".py",
   "mimetype": "text/x-python",
   "name": "python",
   "nbconvert_exporter": "python",
   "pygments_lexer": "ipython3",
   "version": "3.9.7"
  }
 },
 "nbformat": 4,
 "nbformat_minor": 5
}
