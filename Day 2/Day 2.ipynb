{
 "cells": [
  {
   "cell_type": "markdown",
   "id": "3fe56797",
   "metadata": {},
   "source": [
    "Q1. Name the keyword which helps in writing code involving conditions.\n",
    "\n",
    "\n"
   ]
  },
  {
   "cell_type": "markdown",
   "id": "8805dbfc",
   "metadata": {},
   "source": [
    "Ans. if,elif,else\n"
   ]
  },
  {
   "cell_type": "markdown",
   "id": "43c44e4b",
   "metadata": {},
   "source": [
    "Q2. Write the syntax of a simple if statement"
   ]
  },
  {
   "cell_type": "markdown",
   "id": "39f634ef",
   "metadata": {},
   "source": [
    "Ans. if<expression>:\n",
    "    <statements>"
   ]
  },
  {
   "cell_type": "markdown",
   "id": "cf71177a",
   "metadata": {},
   "source": [
    "Q3. Write a program to check whether a person is eligible for voting or not. (accept age from user)"
   ]
  },
  {
   "cell_type": "code",
   "execution_count": 7,
   "id": "55fa529c",
   "metadata": {},
   "outputs": [
    {
     "name": "stdout",
     "output_type": "stream",
     "text": [
      "18\n",
      "Eligible for voting\n"
     ]
    }
   ],
   "source": [
    "age = int(input())\n",
    "\n",
    "if age>=18:\n",
    "    print(\"Eligible for voting\")\n",
    "else:\n",
    "    print(\"Not eligible for voting\")"
   ]
  },
  {
   "cell_type": "markdown",
   "id": "ef8f4ff5",
   "metadata": {},
   "source": [
    "Q4. What is the output of the given below program?\n",
    "\n",
    "if 1 + 3 == 7:\n",
    "    print(\"Hello\")\n",
    "else:\n",
    "    print(\"Know Program\")\n",
    "    \n",
    "Ans . Know Program\n"
   ]
  },
  {
   "cell_type": "markdown",
   "id": "db7460bb",
   "metadata": {},
   "source": [
    "Q5. Write a program to check whether a number entered by user is even or odd."
   ]
  },
  {
   "cell_type": "code",
   "execution_count": 17,
   "id": "ffe03f02",
   "metadata": {},
   "outputs": [
    {
     "name": "stdout",
     "output_type": "stream",
     "text": [
      "33\n",
      "Number is odd\n"
     ]
    }
   ],
   "source": [
    "num = int(input())\n",
    "\n",
    "if num % 2 == 0:\n",
    "       print(\"Number is even\")\n",
    "else:\n",
    "       print(\"Number is odd\")\n"
   ]
  },
  {
   "cell_type": "markdown",
   "id": "f5ef4ccd",
   "metadata": {},
   "source": [
    "Q6. Python program to find the largest element among three Numbers ?"
   ]
  },
  {
   "cell_type": "code",
   "execution_count": 21,
   "id": "6e068ec3",
   "metadata": {},
   "outputs": [
    {
     "name": "stdout",
     "output_type": "stream",
     "text": [
      "Num2 is largest\n"
     ]
    }
   ],
   "source": [
    "num1 = 10 \n",
    "num2 = 50 \n",
    "num3 = 15\n",
    "\n",
    "\n",
    "if(num1>=num2) and (num1>=num3):\n",
    "    largest = num1\n",
    "    print(\"Num1 is largest\")\n",
    "\n",
    "elif(num2>=num1) and (num2>=num3):\n",
    "    largest = num2\n",
    "    print(\"Num2 is largest\")\n",
    "\n",
    "else:\n",
    "    largest = num3\n",
    "    print(\"Num3 is largest\")\n"
   ]
  },
  {
   "cell_type": "markdown",
   "id": "014c2d2f",
   "metadata": {},
   "source": [
    "Q7. Write a program to accept a number from 1 to 12 and display name of the month and days in that month like 1 for January and number of days 31 and so on"
   ]
  },
  {
   "cell_type": "code",
   "execution_count": 32,
   "id": "c15e0664",
   "metadata": {},
   "outputs": [
    {
     "name": "stdout",
     "output_type": "stream",
     "text": [
      "2\n",
      "Month is February and days are 28 or 29\n"
     ]
    }
   ],
   "source": [
    "def print_month_days(x):\n",
    "    \n",
    "    if x==1:\n",
    "        print(\"Month is January and days are 31\")\n",
    "    \n",
    "    if x==2:\n",
    "        print(\"Month is February and days are 28 or 29\")\n",
    "    \n",
    "    if x==3:\n",
    "        print(\"Month is March and days are 31\")\n",
    "    \n",
    "    if x==4:\n",
    "        print(\"Month is April and days are 30\")\n",
    "        \n",
    "    if x==5:\n",
    "        print(\"Month is May and days are 31\")\n",
    "        \n",
    "    if x==6:\n",
    "        print(\"Month is June and days are 30\")\n",
    "        \n",
    "    if x==7:\n",
    "        print(\"Month is July and days are 31\")\n",
    "        \n",
    "    if x==8:\n",
    "        print(\"Month is August and days are 31\")\n",
    "        \n",
    "    if x==9:\n",
    "        print(\"Month is September and days are 30\")\n",
    "        \n",
    "    if x==10:\n",
    "        print(\"Month is October and days are 31\")\n",
    "        \n",
    "    if x==11:\n",
    "        print(\"Month is November and days are 30\")\n",
    "        \n",
    "    if x==12:\n",
    "        print(\"Month is December and days are 31\")\n",
    "        \n",
    "    if (x<1 or x>12):\n",
    "        print(\"Invalid Input\")\n",
    "        \n",
    "    \n",
    "month = int(input())\n",
    "print_month_days(month)\n",
    "\n"
   ]
  },
  {
   "cell_type": "code",
   "execution_count": null,
   "id": "1842e96c",
   "metadata": {},
   "outputs": [],
   "source": []
  }
 ],
 "metadata": {
  "kernelspec": {
   "display_name": "Python 3 (ipykernel)",
   "language": "python",
   "name": "python3"
  },
  "language_info": {
   "codemirror_mode": {
    "name": "ipython",
    "version": 3
   },
   "file_extension": ".py",
   "mimetype": "text/x-python",
   "name": "python",
   "nbconvert_exporter": "python",
   "pygments_lexer": "ipython3",
   "version": "3.9.7"
  }
 },
 "nbformat": 4,
 "nbformat_minor": 5
}
