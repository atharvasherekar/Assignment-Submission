{
 "cells": [
  {
   "cell_type": "markdown",
   "id": "0c785a58",
   "metadata": {},
   "source": [
    "Object Oriented Programming Challenge\n",
    "\n",
    "For this challenge, create a bank account class that has two attributes:\n",
    "owner\n",
    "balance\n",
    "\n",
    "and two methods:\n",
    "deposit\n",
    "withdraw\n",
    "\n",
    "As an added requirement, withdrawals may not exceed the available balance.\n",
    "Instantiate your class, make several deposits and withdrawals, and test to make sure the account can't be overdrawn."
   ]
  },
  {
   "cell_type": "code",
   "execution_count": 14,
   "id": "cb275f80",
   "metadata": {},
   "outputs": [],
   "source": [
    "class Account:\n",
    "    owner = \" \"\n",
    "    balance = 0\n",
    "    \n",
    "    def __init__(self, owner, balance):\n",
    "        self.owner = owner\n",
    "        self.balance = balance\n",
    "    \n",
    "    def __str__(self):\n",
    "        return f'Account Owner : {self.owner} \\nAccount Balance: {self.balance}'\n",
    "    \n",
    "    def deposit(self,dep_amt):\n",
    "        self.balance += dep_amt\n",
    "        print(\"Deposit Accepted\")\n",
    "        \n",
    "    def withdraw(self,wth_amt):\n",
    "        try:\n",
    "            if self.balance>=wth_amt:\n",
    "                self.balance-=wth_amt\n",
    "                print(\"Withdrawal Accepted\")\n",
    "            else:\n",
    "                print(\"Funds Unavailable\")\n",
    "                \n",
    "        except ValueError:\n",
    "            print(\"valueerror not found\")"
   ]
  },
  {
   "cell_type": "code",
   "execution_count": 15,
   "id": "b94e98de",
   "metadata": {},
   "outputs": [],
   "source": [
    "# 1. Instantiate the class\n",
    "\n",
    "a = Account(\"Pavan\",200)"
   ]
  },
  {
   "cell_type": "code",
   "execution_count": 16,
   "id": "083faf18",
   "metadata": {},
   "outputs": [
    {
     "name": "stdout",
     "output_type": "stream",
     "text": [
      "Account Owner : Pavan \n",
      "Account Balance: 200\n"
     ]
    }
   ],
   "source": [
    "# 2. Print the object\n",
    "\n",
    "print(a)"
   ]
  },
  {
   "cell_type": "code",
   "execution_count": 17,
   "id": "87977d7e",
   "metadata": {},
   "outputs": [
    {
     "data": {
      "text/plain": [
       "'Pavan'"
      ]
     },
     "execution_count": 17,
     "metadata": {},
     "output_type": "execute_result"
    }
   ],
   "source": [
    "# 3. Show the account owner attribute\n",
    "a.owner"
   ]
  },
  {
   "cell_type": "code",
   "execution_count": 18,
   "id": "fa2e6a34",
   "metadata": {},
   "outputs": [
    {
     "data": {
      "text/plain": [
       "200"
      ]
     },
     "execution_count": 18,
     "metadata": {},
     "output_type": "execute_result"
    }
   ],
   "source": [
    "# 4. Show the account balance attribute\n",
    "a.balance"
   ]
  },
  {
   "cell_type": "code",
   "execution_count": 19,
   "id": "2ff40ea0",
   "metadata": {},
   "outputs": [
    {
     "name": "stdout",
     "output_type": "stream",
     "text": [
      "Deposit Accepted\n"
     ]
    }
   ],
   "source": [
    "# 5. Make a series of deposits and withdrawals\n",
    "\n",
    "a.deposit(500)"
   ]
  },
  {
   "cell_type": "code",
   "execution_count": 20,
   "id": "3a0be9ca",
   "metadata": {},
   "outputs": [
    {
     "data": {
      "text/plain": [
       "700"
      ]
     },
     "execution_count": 20,
     "metadata": {},
     "output_type": "execute_result"
    }
   ],
   "source": [
    "a.balance"
   ]
  },
  {
   "cell_type": "code",
   "execution_count": 21,
   "id": "062698cf",
   "metadata": {},
   "outputs": [
    {
     "name": "stdout",
     "output_type": "stream",
     "text": [
      "Withdrawal Accepted\n"
     ]
    }
   ],
   "source": [
    "a.withdraw(85)"
   ]
  },
  {
   "cell_type": "code",
   "execution_count": 22,
   "id": "9c2d716b",
   "metadata": {},
   "outputs": [
    {
     "data": {
      "text/plain": [
       "615"
      ]
     },
     "execution_count": 22,
     "metadata": {},
     "output_type": "execute_result"
    }
   ],
   "source": [
    "a.balance"
   ]
  },
  {
   "cell_type": "code",
   "execution_count": 23,
   "id": "534996d1",
   "metadata": {},
   "outputs": [
    {
     "name": "stdout",
     "output_type": "stream",
     "text": [
      "Funds Unavailable\n"
     ]
    }
   ],
   "source": [
    "# 6. Make a withdrawal that exceeds the available balance\n",
    "\n",
    "a.withdraw(650)"
   ]
  },
  {
   "cell_type": "code",
   "execution_count": null,
   "id": "50033e15",
   "metadata": {},
   "outputs": [],
   "source": []
  }
 ],
 "metadata": {
  "kernelspec": {
   "display_name": "Python 3 (ipykernel)",
   "language": "python",
   "name": "python3"
  },
  "language_info": {
   "codemirror_mode": {
    "name": "ipython",
    "version": 3
   },
   "file_extension": ".py",
   "mimetype": "text/x-python",
   "name": "python",
   "nbconvert_exporter": "python",
   "pygments_lexer": "ipython3",
   "version": "3.9.7"
  }
 },
 "nbformat": 4,
 "nbformat_minor": 5
}
